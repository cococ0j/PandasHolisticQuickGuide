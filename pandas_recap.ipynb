{
 "cells": [
  {
   "cell_type": "markdown",
   "metadata": {},
   "source": [
    "## Pandas holistic Guide\n",
    "\n",
    "Basic data extraction\n",
    "* basic pandas in cell formation\n",
    "* read(csv, excel, pdf*)\n",
    "* exam data\n",
    "* basic statistics\n",
    "* work na, duplication\n",
    "* select row, column, condition\n",
    "* group by\n",
    "* join\n",
    "* sort\n",
    "* reshape(transpose)\n",
    "* write(csv, excel, pdf*)\n",
    "\n",
    "Data creation and modification\n",
    "* create a dataframe\n",
    "* convert list/dict/np.series to dataframe\n",
    "* create/insert new column/row\n",
    "* fill a column with data\n",
    "* combine dataframe (vertical, horizontal)\n",
    "* modify a cell/column/row\n",
    "* delete a cell/column/row\n",
    "\n",
    "Basic data ploting (pandas built-in & matplotlib)\n",
    "* bar chart\n",
    "* line chart\n",
    "\n",
    "\n",
    "miscellaneous\n",
    "* timeseries\n",
    "* play with strings\n",
    "* regular expression\n",
    "* play with index\n",
    "* Play with Na, NaN\n",
    "\n",
    "\n",
    "Useful links"
   ]
  },
  {
   "cell_type": "code",
   "execution_count": 1,
   "metadata": {},
   "outputs": [],
   "source": [
    "import numpy as np, pandas as pd"
   ]
  },
  {
   "cell_type": "code",
   "execution_count": 2,
   "metadata": {},
   "outputs": [],
   "source": [
    "titanic = pd.read_csv(\"https://raw.githubusercontent.com/jorisvandenbossche/pandas-tutorial/master/data/titanic.csv\")\n"
   ]
  },
  {
   "cell_type": "markdown",
   "metadata": {},
   "source": [
    "### Basic data extraction"
   ]
  },
  {
   "cell_type": "markdown",
   "metadata": {},
   "source": [
    "#### basic pandas in cell formation"
   ]
  },
  {
   "cell_type": "code",
   "execution_count": null,
   "metadata": {},
   "outputs": [],
   "source": [
    "fig, axs = plt.subplots(figsize=(12, 4))  # change matplotlib figure size"
   ]
  },
  {
   "cell_type": "markdown",
   "metadata": {},
   "source": [
    "#### read(csv, excel, pdf*)"
   ]
  },
  {
   "cell_type": "code",
   "execution_count": 28,
   "metadata": {},
   "outputs": [
    {
     "data": {
      "text/html": [
       "<div>\n",
       "<style scoped>\n",
       "    .dataframe tbody tr th:only-of-type {\n",
       "        vertical-align: middle;\n",
       "    }\n",
       "\n",
       "    .dataframe tbody tr th {\n",
       "        vertical-align: top;\n",
       "    }\n",
       "\n",
       "    .dataframe thead th {\n",
       "        text-align: right;\n",
       "    }\n",
       "</style>\n",
       "<table border=\"1\" class=\"dataframe\">\n",
       "  <thead>\n",
       "    <tr style=\"text-align: right;\">\n",
       "      <th></th>\n",
       "      <th>city</th>\n",
       "      <th>country</th>\n",
       "      <th>location</th>\n",
       "      <th>parameter</th>\n",
       "      <th>value</th>\n",
       "      <th>unit</th>\n",
       "    </tr>\n",
       "    <tr>\n",
       "      <th>date.utc</th>\n",
       "      <th></th>\n",
       "      <th></th>\n",
       "      <th></th>\n",
       "      <th></th>\n",
       "      <th></th>\n",
       "      <th></th>\n",
       "    </tr>\n",
       "  </thead>\n",
       "  <tbody>\n",
       "    <tr>\n",
       "      <th>2019-06-18 06:00:00+00:00</th>\n",
       "      <td>Antwerpen</td>\n",
       "      <td>BE</td>\n",
       "      <td>BETR801</td>\n",
       "      <td>pm25</td>\n",
       "      <td>18.0</td>\n",
       "      <td>µg/m³</td>\n",
       "    </tr>\n",
       "    <tr>\n",
       "      <th>2019-06-17 08:00:00+00:00</th>\n",
       "      <td>Antwerpen</td>\n",
       "      <td>BE</td>\n",
       "      <td>BETR801</td>\n",
       "      <td>pm25</td>\n",
       "      <td>6.5</td>\n",
       "      <td>µg/m³</td>\n",
       "    </tr>\n",
       "    <tr>\n",
       "      <th>2019-06-17 07:00:00+00:00</th>\n",
       "      <td>Antwerpen</td>\n",
       "      <td>BE</td>\n",
       "      <td>BETR801</td>\n",
       "      <td>pm25</td>\n",
       "      <td>18.5</td>\n",
       "      <td>µg/m³</td>\n",
       "    </tr>\n",
       "    <tr>\n",
       "      <th>2019-06-17 06:00:00+00:00</th>\n",
       "      <td>Antwerpen</td>\n",
       "      <td>BE</td>\n",
       "      <td>BETR801</td>\n",
       "      <td>pm25</td>\n",
       "      <td>16.0</td>\n",
       "      <td>µg/m³</td>\n",
       "    </tr>\n",
       "    <tr>\n",
       "      <th>2019-06-17 05:00:00+00:00</th>\n",
       "      <td>Antwerpen</td>\n",
       "      <td>BE</td>\n",
       "      <td>BETR801</td>\n",
       "      <td>pm25</td>\n",
       "      <td>7.5</td>\n",
       "      <td>µg/m³</td>\n",
       "    </tr>\n",
       "  </tbody>\n",
       "</table>\n",
       "</div>"
      ],
      "text/plain": [
       "                                city country location parameter  value   unit\n",
       "date.utc                                                                     \n",
       "2019-06-18 06:00:00+00:00  Antwerpen      BE  BETR801      pm25   18.0  µg/m³\n",
       "2019-06-17 08:00:00+00:00  Antwerpen      BE  BETR801      pm25    6.5  µg/m³\n",
       "2019-06-17 07:00:00+00:00  Antwerpen      BE  BETR801      pm25   18.5  µg/m³\n",
       "2019-06-17 06:00:00+00:00  Antwerpen      BE  BETR801      pm25   16.0  µg/m³\n",
       "2019-06-17 05:00:00+00:00  Antwerpen      BE  BETR801      pm25    7.5  µg/m³"
      ]
     },
     "execution_count": 28,
     "metadata": {},
     "output_type": "execute_result"
    }
   ],
   "source": [
    "# 1 titanic data\n",
    "titanic = pd.read_csv(\"https://raw.githubusercontent.com/jorisvandenbossche/pandas-tutorial/master/data/titanic.csv\")\n",
    "titanic = pd.read_excel('titanic.xlsx', sheet_name='passengers')\n",
    "# 2 air quality data\n",
    "air_quality = pd.read_csv(\"https://raw.githubusercontent.com/pandas-dev/pandas/master/doc/data/air_quality_long.csv\",\n",
    "                         index_col = \"date.utc\",\n",
    "                         parse_dates = True)\n",
    "air_quality.head()"
   ]
  },
  {
   "cell_type": "markdown",
   "metadata": {},
   "source": [
    "#### exam data"
   ]
  },
  {
   "cell_type": "code",
   "execution_count": null,
   "metadata": {},
   "outputs": [],
   "source": [
    "titanic.describe()    # basic satistics of numerical datab\n",
    "titanic.head(10)      # first 10 rows\n",
    "titanic.tail(10)      # last 10 rows\n",
    "titanic.dtypes        # column data types: integer(int64), floats(floats63), string(object)\n",
    "                      # When asking for the dtypes, no brackets are used! dtypes is an attribute of a DataFrame and Series.\n",
    "titanic.shape         # Same to dtypes\n",
    "titanic.info()        # technical summary: column, entries, null value, dtypes, memory     \n",
    "\n",
    "titanic[\"Name\"].unique()   # Get unique values for a column, result is a np arraya"
   ]
  },
  {
   "cell_type": "markdown",
   "metadata": {},
   "source": [
    "#### Basic Statistics"
   ]
  },
  {
   "cell_type": "code",
   "execution_count": null,
   "metadata": {},
   "outputs": [],
   "source": [
    "titanic[\"Age\"].mean()\n",
    "titanic[[\"Age\", \"Fare\"]].median()\n",
    "titanic.agg({Age': ['min', 'max', 'median', 'skew'],\n",
    "              'Fare': ['min', 'max', 'median', 'mean']})"
   ]
  },
  {
   "cell_type": "markdown",
   "metadata": {},
   "source": [
    "#### Work with na and duplication\n",
    "\n",
    "Before you compare values, you should know:\n",
    "\n",
    "```python\n",
    "np.nan != np.nan\n",
    "```"
   ]
  },
  {
   "cell_type": "code",
   "execution_count": null,
   "metadata": {},
   "outputs": [],
   "source": [
    "# show rows with nan\n",
    "df[df[col].isnull()]\n",
    "\n",
    "# show duplicates\n",
    "df[df.duplicated(subset=['Acol', 'Bcol'])]"
   ]
  },
  {
   "cell_type": "markdown",
   "metadata": {},
   "source": [
    "|  Method  |  Action   |\n",
    "| --- | --- |\n",
    "| pad / ffill | Fill values forward |\n",
    "| bfill / backfill | Fill values backward |"
   ]
  },
  {
   "cell_type": "code",
   "execution_count": null,
   "metadata": {},
   "outputs": [],
   "source": [
    "# fill na\n",
    "df.fillna(0) # fill with 0\n",
    "df.fillna(method='ffill')  # propagate non-null values forward or backward\n",
    "\n",
    "values = {'A': 0 , 'B' : 2, 'C' : 3, 'D' : 4}  # fill columns with certain value\n",
    "df.fillna(value = values)\n",
    "\n",
    "# create na\n",
    "np.nan  # to all objects and numeric values\n",
    "None   # to all numeric values\n",
    "\n",
    "# fill white space in Acol with na\n",
    "df.replace({ 'A': r'^\\s*$'}, np.nan, regex=True)\n",
    "\n",
    "# fill NA with a compute values \n",
    "df.where(pd.notna(df), df.mean(), axis='columns')\n",
    "\n",
    "\n",
    "# fix duplication\n",
    "df.drop_duplicates()  # keep first row\n",
    "df.drop_duplicates(keep='last')   # keep last row\n",
    "df.drop_duplicates(subset=['A', 'B'])  # identify duplicate rows based on specific columns\n"
   ]
  },
  {
   "cell_type": "markdown",
   "metadata": {},
   "source": [
    "#### select row, column, condition"
   ]
  },
  {
   "cell_type": "code",
   "execution_count": null,
   "metadata": {},
   "outputs": [],
   "source": [
    "# select columns\n",
    "ages = titanic[\"Age\"]\n",
    "age_sex = titanic[[\"Age\", \"Sex\"]]\n",
    "\n",
    "# select rows\n",
    "above_35 = titanic[titanic[\"Age\"]>35]\n",
    "class_23 = titanic[titanic[\"Pclass\"].isin([2,3])]\n",
    "class_23 = titanic[(titanic[\"Pclass\"] == 2) | (titanic['Pclass']==3)]    # When combining multiple conditional statements, each condition must be surrounded by parentheses (). \n",
    "                                                                         # Moreover, you can not use or/and but need to use the or operator | and the and operator &.\n",
    "age_no_na = titanic[titanic[\"Age\"].notna()]    \n",
    "    \n",
    "# location\n",
    "adult_names = titanic.loc[titanic['Age']>35, \"Name\"]    # loc[row_name, column_name], or both the part before and after the comma, you can use a single label, a list of labels, a slice of labels, a conditional expression or a colon.\n",
    "titanic.ix[9:25, \"Name\"]    # Mix index with names using .ix[]\n",
    "titanic.iloc[9:25, 2:5]     # iloc[row_index, column_index], can't use condition here.    \n",
    "    \n",
    " "
   ]
  },
  {
   "cell_type": "markdown",
   "metadata": {},
   "source": [
    "#### group by"
   ]
  },
  {
   "cell_type": "code",
   "execution_count": null,
   "metadata": {},
   "outputs": [],
   "source": [
    "# As our interest is the average age for each gender, a subselection on these \n",
    "# two columns is made first: titanic[[\"Sex\", \"Age\"]]. Next, the groupby() method \n",
    "# is applied on the Sex column to make a group per category. The average age for \n",
    "# each gender is calculated and returned.\n",
    "titanic[[\"Sex\",\"Age\"]].groupby(\"Sex\").mean()\n",
    "titanic.groupby(\"Sex\")[\"Age\"].mean()\n",
    "\n",
    "# What is the mean ticket fare price for each of the sex and cabin class combinations?\n",
    "titanic.groupby([\"Sex\", \"Pclass\"])[\"Fare\"].mean()\n",
    "\n",
    "# What is the number of passengers in each of the cabin classes?\n",
    "titanic[\"Pclass\"].value_counts(dropna=True)\n",
    "titanic.groupby(\"Pclass\")[\"Pclass\"].count()  # exclude NA value\n",
    "titanic.groupby(\"Pclass\")[\"Pclass\"].size()   # include NA value\n",
    "\n",
    "# more than one aggregation function\n",
    "titanic.groupby(\"Pclass\").agg({\"Survived\":'sum', \"Sex\":\"count\"})\n",
    "\n",
    "\n",
    "# customized agg function: groupby.filter(func)\n",
    "# Return a copy of a DataFrame excluding elements from groups that do not satisfy\n",
    "# the boolean criterion specified by func\n",
    "df = pd.DataFrame({'A' : ['foo', 'bar', 'foo', 'bar',\n",
    "                           'foo', 'bar'],\n",
    "                    'B' : [1, 2, 3, 4, 5, 6],\n",
    "                    'C' : [2.0, 5., 8., 1., 2., 9.]})\n",
    "grouped = df.groupby('A')\n",
    "grouped.filter(lambda x: x['B'].mean() > 3.)"
   ]
  },
  {
   "cell_type": "markdown",
   "metadata": {},
   "source": [
    "#### join\n",
    "\n",
    "The air quality measurement station coordinates are stored in a data file air_quality_stations.csv, downloaded using the py-openaq package.\n",
    "\n",
    "```python\n",
    "stations_coord = pd.read_csv(\"data/air_quality_stations.csv\")\n",
    "```"
   ]
  },
  {
   "cell_type": "code",
   "execution_count": null,
   "metadata": {},
   "outputs": [],
   "source": [
    "air_quality = pd.merge(air_quality, stations_coord, how='left', left_on='parameter', right_on='id')"
   ]
  },
  {
   "cell_type": "markdown",
   "metadata": {},
   "source": [
    "#### Sort"
   ]
  },
  {
   "cell_type": "code",
   "execution_count": null,
   "metadata": {},
   "outputs": [],
   "source": [
    "titanic.sort_values(by=['Pclass', 'Age'], ascending=False).head()"
   ]
  },
  {
   "cell_type": "markdown",
   "metadata": {},
   "source": [
    "#### reshape"
   ]
  },
  {
   "cell_type": "code",
   "execution_count": 29,
   "metadata": {
    "scrolled": true
   },
   "outputs": [
    {
     "data": {
      "text/html": [
       "<div>\n",
       "<style scoped>\n",
       "    .dataframe tbody tr th:only-of-type {\n",
       "        vertical-align: middle;\n",
       "    }\n",
       "\n",
       "    .dataframe tbody tr th {\n",
       "        vertical-align: top;\n",
       "    }\n",
       "\n",
       "    .dataframe thead th {\n",
       "        text-align: right;\n",
       "    }\n",
       "</style>\n",
       "<table border=\"1\" class=\"dataframe\">\n",
       "  <thead>\n",
       "    <tr style=\"text-align: right;\">\n",
       "      <th></th>\n",
       "      <th>city</th>\n",
       "      <th>country</th>\n",
       "      <th>location</th>\n",
       "      <th>parameter</th>\n",
       "      <th>value</th>\n",
       "      <th>unit</th>\n",
       "    </tr>\n",
       "    <tr>\n",
       "      <th>date.utc</th>\n",
       "      <th></th>\n",
       "      <th></th>\n",
       "      <th></th>\n",
       "      <th></th>\n",
       "      <th></th>\n",
       "      <th></th>\n",
       "    </tr>\n",
       "  </thead>\n",
       "  <tbody>\n",
       "    <tr>\n",
       "      <th>2019-04-09 01:00:00+00:00</th>\n",
       "      <td>Antwerpen</td>\n",
       "      <td>BE</td>\n",
       "      <td>BETR801</td>\n",
       "      <td>no2</td>\n",
       "      <td>22.5</td>\n",
       "      <td>µg/m³</td>\n",
       "    </tr>\n",
       "    <tr>\n",
       "      <th>2019-04-09 01:00:00+00:00</th>\n",
       "      <td>Paris</td>\n",
       "      <td>FR</td>\n",
       "      <td>FR04014</td>\n",
       "      <td>no2</td>\n",
       "      <td>24.4</td>\n",
       "      <td>µg/m³</td>\n",
       "    </tr>\n",
       "    <tr>\n",
       "      <th>2019-04-09 02:00:00+00:00</th>\n",
       "      <td>London</td>\n",
       "      <td>GB</td>\n",
       "      <td>London Westminster</td>\n",
       "      <td>no2</td>\n",
       "      <td>67.0</td>\n",
       "      <td>µg/m³</td>\n",
       "    </tr>\n",
       "    <tr>\n",
       "      <th>2019-04-09 02:00:00+00:00</th>\n",
       "      <td>Antwerpen</td>\n",
       "      <td>BE</td>\n",
       "      <td>BETR801</td>\n",
       "      <td>no2</td>\n",
       "      <td>53.5</td>\n",
       "      <td>µg/m³</td>\n",
       "    </tr>\n",
       "    <tr>\n",
       "      <th>2019-04-09 02:00:00+00:00</th>\n",
       "      <td>Paris</td>\n",
       "      <td>FR</td>\n",
       "      <td>FR04014</td>\n",
       "      <td>no2</td>\n",
       "      <td>27.4</td>\n",
       "      <td>µg/m³</td>\n",
       "    </tr>\n",
       "  </tbody>\n",
       "</table>\n",
       "</div>"
      ],
      "text/plain": [
       "                                city country            location parameter  \\\n",
       "date.utc                                                                     \n",
       "2019-04-09 01:00:00+00:00  Antwerpen      BE             BETR801       no2   \n",
       "2019-04-09 01:00:00+00:00      Paris      FR             FR04014       no2   \n",
       "2019-04-09 02:00:00+00:00     London      GB  London Westminster       no2   \n",
       "2019-04-09 02:00:00+00:00  Antwerpen      BE             BETR801       no2   \n",
       "2019-04-09 02:00:00+00:00      Paris      FR             FR04014       no2   \n",
       "\n",
       "                           value   unit  \n",
       "date.utc                                 \n",
       "2019-04-09 01:00:00+00:00   22.5  µg/m³  \n",
       "2019-04-09 01:00:00+00:00   24.4  µg/m³  \n",
       "2019-04-09 02:00:00+00:00   67.0  µg/m³  \n",
       "2019-04-09 02:00:00+00:00   53.5  µg/m³  \n",
       "2019-04-09 02:00:00+00:00   27.4  µg/m³  "
      ]
     },
     "execution_count": 29,
     "metadata": {},
     "output_type": "execute_result"
    }
   ],
   "source": [
    "# Create a subset of air quality data\n",
    "# use 2 measurements (head) for each location (groupby)\n",
    "no2_subset = air_quality[air_quality[\"parameter\"] == \"no2\"].sort_index().groupby([\"location\"]).head(2)\n",
    "no2_subset.head()"
   ]
  },
  {
   "cell_type": "markdown",
   "metadata": {},
   "source": [
    "##### Long to wide format"
   ]
  },
  {
   "cell_type": "code",
   "execution_count": 30,
   "metadata": {},
   "outputs": [
    {
     "data": {
      "text/html": [
       "<div>\n",
       "<style scoped>\n",
       "    .dataframe tbody tr th:only-of-type {\n",
       "        vertical-align: middle;\n",
       "    }\n",
       "\n",
       "    .dataframe tbody tr th {\n",
       "        vertical-align: top;\n",
       "    }\n",
       "\n",
       "    .dataframe thead th {\n",
       "        text-align: right;\n",
       "    }\n",
       "</style>\n",
       "<table border=\"1\" class=\"dataframe\">\n",
       "  <thead>\n",
       "    <tr style=\"text-align: right;\">\n",
       "      <th>location</th>\n",
       "      <th>BETR801</th>\n",
       "      <th>FR04014</th>\n",
       "      <th>London Westminster</th>\n",
       "    </tr>\n",
       "    <tr>\n",
       "      <th>date.utc</th>\n",
       "      <th></th>\n",
       "      <th></th>\n",
       "      <th></th>\n",
       "    </tr>\n",
       "  </thead>\n",
       "  <tbody>\n",
       "    <tr>\n",
       "      <th>2019-04-09 01:00:00+00:00</th>\n",
       "      <td>22.5</td>\n",
       "      <td>24.4</td>\n",
       "      <td>NaN</td>\n",
       "    </tr>\n",
       "    <tr>\n",
       "      <th>2019-04-09 02:00:00+00:00</th>\n",
       "      <td>53.5</td>\n",
       "      <td>27.4</td>\n",
       "      <td>67.0</td>\n",
       "    </tr>\n",
       "    <tr>\n",
       "      <th>2019-04-09 03:00:00+00:00</th>\n",
       "      <td>NaN</td>\n",
       "      <td>NaN</td>\n",
       "      <td>67.0</td>\n",
       "    </tr>\n",
       "  </tbody>\n",
       "</table>\n",
       "</div>"
      ],
      "text/plain": [
       "location                   BETR801  FR04014  London Westminster\n",
       "date.utc                                                       \n",
       "2019-04-09 01:00:00+00:00     22.5     24.4                 NaN\n",
       "2019-04-09 02:00:00+00:00     53.5     27.4                67.0\n",
       "2019-04-09 03:00:00+00:00      NaN      NaN                67.0"
      ]
     },
     "execution_count": 30,
     "metadata": {},
     "output_type": "execute_result"
    }
   ],
   "source": [
    "# I want the values for the three stations as separate columns next to each other\n",
    "# The pivot_table() function is purely reshaping of the data: a single value for each index/column combination is required.\n",
    "no2_subset.pivot(columns=\"location\", values=\"value\")   "
   ]
  },
  {
   "cell_type": "code",
   "execution_count": 32,
   "metadata": {
    "scrolled": true
   },
   "outputs": [
    {
     "data": {
      "text/html": [
       "<div>\n",
       "<style scoped>\n",
       "    .dataframe tbody tr th:only-of-type {\n",
       "        vertical-align: middle;\n",
       "    }\n",
       "\n",
       "    .dataframe tbody tr th {\n",
       "        vertical-align: top;\n",
       "    }\n",
       "\n",
       "    .dataframe thead th {\n",
       "        text-align: right;\n",
       "    }\n",
       "</style>\n",
       "<table border=\"1\" class=\"dataframe\">\n",
       "  <thead>\n",
       "    <tr style=\"text-align: right;\">\n",
       "      <th>parameter</th>\n",
       "      <th>no2</th>\n",
       "      <th>pm25</th>\n",
       "    </tr>\n",
       "    <tr>\n",
       "      <th>location</th>\n",
       "      <th></th>\n",
       "      <th></th>\n",
       "    </tr>\n",
       "  </thead>\n",
       "  <tbody>\n",
       "    <tr>\n",
       "      <th>BETR801</th>\n",
       "      <td>26.950920</td>\n",
       "      <td>23.169492</td>\n",
       "    </tr>\n",
       "    <tr>\n",
       "      <th>FR04014</th>\n",
       "      <td>29.374284</td>\n",
       "      <td>NaN</td>\n",
       "    </tr>\n",
       "    <tr>\n",
       "      <th>London Westminster</th>\n",
       "      <td>29.740050</td>\n",
       "      <td>13.443568</td>\n",
       "    </tr>\n",
       "  </tbody>\n",
       "</table>\n",
       "</div>"
      ],
      "text/plain": [
       "parameter                 no2       pm25\n",
       "location                                \n",
       "BETR801             26.950920  23.169492\n",
       "FR04014             29.374284        NaN\n",
       "London Westminster  29.740050  13.443568"
      ]
     },
     "execution_count": 32,
     "metadata": {},
     "output_type": "execute_result"
    }
   ],
   "source": [
    "# I want the mean concentrations for NO2 and 𝑃𝑀2.5 in each of the stations in table form\n",
    "air_quality.pivot_table(values=\"value\", index=\"location\",\n",
    "                        columns=\"parameter\", aggfunc=\"mean\")\n",
    "# pivot(): data is only rearranged\n",
    "# pivot_table(): data is re arranged and aggregated, equalvent to groupby+unstack\n",
    "air_quality.groupby([\"parameter\", \"location\"]).mean().unstack(0)\n"
   ]
  },
  {
   "cell_type": "markdown",
   "metadata": {},
   "source": [
    "##### Wide to long format"
   ]
  },
  {
   "cell_type": "code",
   "execution_count": 39,
   "metadata": {},
   "outputs": [],
   "source": [
    "# prepare data\n",
    "no2_pivoted = no2_subset.pivot(columns=\"location\", values=\"value\").reset_index()\n"
   ]
  },
  {
   "cell_type": "code",
   "execution_count": 47,
   "metadata": {},
   "outputs": [],
   "source": [
    "# I want to collect all air quality 𝑁𝑂2 measurements in a single column (long format)\n",
    "no_2 = no2_pivoted.melt(id_vars=\"date.utc\",\n",
    "                         value_vars=[\"BETR801\",\n",
    "                                     \"FR04014\",\n",
    "                                     \"London Westminster\"],\n",
    "                         value_name=\"NO_2\",\n",
    "                         var_name=\"id_location\")    \n",
    "# id_vars: pivot point\n",
    "# value_vars: columns to melt together\n",
    "# value_names: a custom column name for melted value column\n",
    "# var_name: a custom column name for the melted column names, ie BETR801, FR04014, London Westminster\n"
   ]
  },
  {
   "cell_type": "code",
   "execution_count": 48,
   "metadata": {
    "scrolled": true
   },
   "outputs": [
    {
     "data": {
      "text/html": [
       "<div>\n",
       "<style scoped>\n",
       "    .dataframe tbody tr th:only-of-type {\n",
       "        vertical-align: middle;\n",
       "    }\n",
       "\n",
       "    .dataframe tbody tr th {\n",
       "        vertical-align: top;\n",
       "    }\n",
       "\n",
       "    .dataframe thead th {\n",
       "        text-align: right;\n",
       "    }\n",
       "</style>\n",
       "<table border=\"1\" class=\"dataframe\">\n",
       "  <thead>\n",
       "    <tr style=\"text-align: right;\">\n",
       "      <th></th>\n",
       "      <th>date.utc</th>\n",
       "      <th>id_location</th>\n",
       "      <th>NO_2</th>\n",
       "    </tr>\n",
       "  </thead>\n",
       "  <tbody>\n",
       "    <tr>\n",
       "      <th>0</th>\n",
       "      <td>2019-04-09 01:00:00+00:00</td>\n",
       "      <td>BETR801</td>\n",
       "      <td>22.5</td>\n",
       "    </tr>\n",
       "    <tr>\n",
       "      <th>1</th>\n",
       "      <td>2019-04-09 02:00:00+00:00</td>\n",
       "      <td>BETR801</td>\n",
       "      <td>53.5</td>\n",
       "    </tr>\n",
       "    <tr>\n",
       "      <th>2</th>\n",
       "      <td>2019-04-09 03:00:00+00:00</td>\n",
       "      <td>BETR801</td>\n",
       "      <td>NaN</td>\n",
       "    </tr>\n",
       "    <tr>\n",
       "      <th>3</th>\n",
       "      <td>2019-04-09 01:00:00+00:00</td>\n",
       "      <td>FR04014</td>\n",
       "      <td>24.4</td>\n",
       "    </tr>\n",
       "    <tr>\n",
       "      <th>4</th>\n",
       "      <td>2019-04-09 02:00:00+00:00</td>\n",
       "      <td>FR04014</td>\n",
       "      <td>27.4</td>\n",
       "    </tr>\n",
       "    <tr>\n",
       "      <th>5</th>\n",
       "      <td>2019-04-09 03:00:00+00:00</td>\n",
       "      <td>FR04014</td>\n",
       "      <td>NaN</td>\n",
       "    </tr>\n",
       "    <tr>\n",
       "      <th>6</th>\n",
       "      <td>2019-04-09 01:00:00+00:00</td>\n",
       "      <td>London Westminster</td>\n",
       "      <td>NaN</td>\n",
       "    </tr>\n",
       "    <tr>\n",
       "      <th>7</th>\n",
       "      <td>2019-04-09 02:00:00+00:00</td>\n",
       "      <td>London Westminster</td>\n",
       "      <td>67.0</td>\n",
       "    </tr>\n",
       "    <tr>\n",
       "      <th>8</th>\n",
       "      <td>2019-04-09 03:00:00+00:00</td>\n",
       "      <td>London Westminster</td>\n",
       "      <td>67.0</td>\n",
       "    </tr>\n",
       "  </tbody>\n",
       "</table>\n",
       "</div>"
      ],
      "text/plain": [
       "                   date.utc         id_location  NO_2\n",
       "0 2019-04-09 01:00:00+00:00             BETR801  22.5\n",
       "1 2019-04-09 02:00:00+00:00             BETR801  53.5\n",
       "2 2019-04-09 03:00:00+00:00             BETR801   NaN\n",
       "3 2019-04-09 01:00:00+00:00             FR04014  24.4\n",
       "4 2019-04-09 02:00:00+00:00             FR04014  27.4\n",
       "5 2019-04-09 03:00:00+00:00             FR04014   NaN\n",
       "6 2019-04-09 01:00:00+00:00  London Westminster   NaN\n",
       "7 2019-04-09 02:00:00+00:00  London Westminster  67.0\n",
       "8 2019-04-09 03:00:00+00:00  London Westminster  67.0"
      ]
     },
     "execution_count": 48,
     "metadata": {},
     "output_type": "execute_result"
    }
   ],
   "source": [
    "no_2"
   ]
  },
  {
   "cell_type": "markdown",
   "metadata": {},
   "source": [
    "##### Stacking and unstacking\n",
    "* Work with multiIndex objects\n",
    "    * Stack:  “pivot” a level of the (possibly hierarchical) column labels, returning a DataFrame with an index with a new inner-most level of row labels. **feels like to increase a level of index by transform wide to long**\n",
    "    * unstack: (inverse operation of stack) “pivot” a level of the (possibly hierarchical) row index to the column axis, producing a reshaped DataFrame with a new inner-most level of column labels.  **feels like to unpacked a level by transforming long to wide**, you can choose unpacked level."
   ]
  },
  {
   "cell_type": "markdown",
   "metadata": {},
   "source": [
    "##### Pivot_table\n",
    "The function pivot_table() can be used to create spreadsheet-style pivot tables. See the cookbook for some advanced strategies.\n",
    "\n"
   ]
  },
  {
   "cell_type": "markdown",
   "metadata": {},
   "source": [
    "#### write(csv, excel, pdf*)"
   ]
  },
  {
   "cell_type": "code",
   "execution_count": null,
   "metadata": {},
   "outputs": [],
   "source": [
    "titanic.to_csv('titanic.csv')\n",
    "titanic.to_excel('titanic.xlsx', sheet_name=_name= 'passengers', index = False)"
   ]
  },
  {
   "cell_type": "markdown",
   "metadata": {},
   "source": [
    "### Data creation and modification"
   ]
  },
  {
   "cell_type": "code",
   "execution_count": 20,
   "metadata": {},
   "outputs": [
    {
     "data": {
      "text/html": [
       "<div>\n",
       "<style scoped>\n",
       "    .dataframe tbody tr th:only-of-type {\n",
       "        vertical-align: middle;\n",
       "    }\n",
       "\n",
       "    .dataframe tbody tr th {\n",
       "        vertical-align: top;\n",
       "    }\n",
       "\n",
       "    .dataframe thead th {\n",
       "        text-align: right;\n",
       "    }\n",
       "</style>\n",
       "<table border=\"1\" class=\"dataframe\">\n",
       "  <thead>\n",
       "    <tr style=\"text-align: right;\">\n",
       "      <th></th>\n",
       "      <th>station_antwerp</th>\n",
       "      <th>station_paris</th>\n",
       "      <th>station_london</th>\n",
       "    </tr>\n",
       "    <tr>\n",
       "      <th>datetime</th>\n",
       "      <th></th>\n",
       "      <th></th>\n",
       "      <th></th>\n",
       "    </tr>\n",
       "  </thead>\n",
       "  <tbody>\n",
       "    <tr>\n",
       "      <th>2019-05-07 02:00:00</th>\n",
       "      <td>NaN</td>\n",
       "      <td>NaN</td>\n",
       "      <td>23.0</td>\n",
       "    </tr>\n",
       "    <tr>\n",
       "      <th>2019-05-07 03:00:00</th>\n",
       "      <td>50.5</td>\n",
       "      <td>25.0</td>\n",
       "      <td>19.0</td>\n",
       "    </tr>\n",
       "    <tr>\n",
       "      <th>2019-05-07 04:00:00</th>\n",
       "      <td>45.0</td>\n",
       "      <td>27.7</td>\n",
       "      <td>19.0</td>\n",
       "    </tr>\n",
       "    <tr>\n",
       "      <th>2019-05-07 05:00:00</th>\n",
       "      <td>NaN</td>\n",
       "      <td>50.4</td>\n",
       "      <td>16.0</td>\n",
       "    </tr>\n",
       "    <tr>\n",
       "      <th>2019-05-07 06:00:00</th>\n",
       "      <td>NaN</td>\n",
       "      <td>61.9</td>\n",
       "      <td>NaN</td>\n",
       "    </tr>\n",
       "  </tbody>\n",
       "</table>\n",
       "</div>"
      ],
      "text/plain": [
       "                     station_antwerp  station_paris  station_london\n",
       "datetime                                                           \n",
       "2019-05-07 02:00:00              NaN            NaN            23.0\n",
       "2019-05-07 03:00:00             50.5           25.0            19.0\n",
       "2019-05-07 04:00:00             45.0           27.7            19.0\n",
       "2019-05-07 05:00:00              NaN           50.4            16.0\n",
       "2019-05-07 06:00:00              NaN           61.9             NaN"
      ]
     },
     "execution_count": 20,
     "metadata": {},
     "output_type": "execute_result"
    }
   ],
   "source": [
    "air_quality = pd.read_csv(\"https://raw.githubusercontent.com/pandas-dev/pandas/master/doc/data/air_quality_no2.csv\",\n",
    "                         index_col = 0,\n",
    "                         parse_dates = True)\n",
    "air_quality.head()"
   ]
  },
  {
   "cell_type": "markdown",
   "metadata": {},
   "source": [
    "#### create a dataframe/series"
   ]
  },
  {
   "cell_type": "code",
   "execution_count": null,
   "metadata": {},
   "outputs": [],
   "source": [
    "df = pd.DataFrame({\"Name\": [\"Braund, Mr. Owen Harris\", \"Allen, Mr. William Henry\",\"Bonnell, Miss. Elizabeth\"],\n",
    "              \"Age\": [22, 35, 58],\n",
    "              \"Sex\": [\"male\", \"male\", \"female\"]})"
   ]
  },
  {
   "cell_type": "code",
   "execution_count": null,
   "metadata": {},
   "outputs": [],
   "source": [
    "ages = pd.Series([22,35,58], name = \"age\")"
   ]
  },
  {
   "cell_type": "markdown",
   "metadata": {},
   "source": [
    "#### convert list/dict/np.array to dataframe"
   ]
  },
  {
   "cell_type": "code",
   "execution_count": null,
   "metadata": {},
   "outputs": [],
   "source": [
    "# convert a dict\n",
    "pd.DataFrame(d.items(), columns= [\"key\", \"value\"])\n",
    "\n",
    "# convert a list\n",
    "People_List = ['Jon','Mark','Maria','Jill','Jack']\n",
    "df = DataFrame (People_List,columns=['First_Name'])\n",
    "\n",
    "# convert a list of lists -> very like to a 2D np array\n",
    "People_List = [['Jon','Smith',21],['Mark','Brown',38],['Maria','Lee',42],['Jill','Jones',28],['Jack','Ford',55]]\n",
    "df = DataFrame (People_List,columns=['First_Name','Last_Name','Age'])\n",
    "\n",
    "# what if a column-alike list of lists?\n",
    "People_List = [['Jon','Mark','Maria','Jill','Jack'],['Smith','Brown','Lee','Jones','Ford'],[21,38,42,28,55]]\n",
    "df = DataFrame (People_List).transpose()\n",
    "df.columns = ['First_Name','Last_Name','Age']\n",
    "\n",
    "# From an unusual np.array\n",
    "data = array([['','Col1','Col2'],['Row1',1,2],['Row2',3,4]])\n",
    "df = pd.DataFrame(data=data[1:,1:],    # values\n",
    "              index=data[1:,0],    # 1st column as index\n",
    "              columns=data[0,1:])  # 1st row as the column names"
   ]
  },
  {
   "cell_type": "markdown",
   "metadata": {},
   "source": [
    "#### create/insert new column/row"
   ]
  },
  {
   "cell_type": "code",
   "execution_count": null,
   "metadata": {},
   "outputs": [],
   "source": [
    "# Derive a new column from an existing column\n",
    "air_quality[\"london_mg_per_cubic\"] = air_quality[\"station_london\"] * 1.882    # calculation is done element-wise\n",
    "\n",
    "# Create a new column on top of a condition\n",
    "# Method 1: df.apply(func, axis=1)\n",
    "def f(row):\n",
    "    if row[\"Pclass\"] < 2:\n",
    "        val = \"Upper Class\"\n",
    "    elif row[\"Pclass\"] = 2:\n",
    "        val = \"Middle Class\"\n",
    "    else:\n",
    "        val = \"Lower Class\"\n",
    "    return val\n",
    "titanic[\"Class\"] = titanic.apply(f,axis)\n",
    "# You should either pass a column or a row to the func. Make sure you know what you're passing to the func.\n",
    "\n",
    "# Method 2: df.loc[condition, new_column]\n",
    "titanic.loc[titanic[\"Pclass\"] < 2, \"Class\"] = \"Upper Class\"\n",
    "titanic.loc[titanic[\"Pclass\"] = 2, \"Class\"] = \"Middle Class\"\n",
    "titanic.loc[titanic[\"Pclass\"].isna(), \"Class\"] = \"Lower Class\"\n",
    "\n",
    "# Insert a column to a loc: df.insert(loc, column, value) (This function modifies df inplace.)\n",
    "titanic.insert(loc = 1, column = \"record_type\", value = [1,1,1,1,1,1,2,2,2,2,2,2,3,3,3,])"
   ]
  },
  {
   "cell_type": "code",
   "execution_count": null,
   "metadata": {},
   "outputs": [],
   "source": [
    "# Create a new row\n",
    "new_row = pd.DataFrame([\"Mike\", \"Male\", 12, \"Melbourne\"], columns = [\"Name\", \"Sex\", \"Age\", \"Birth Place\"])\n",
    "\n",
    "# Append to an existing df\n",
    "df_contact = pd.concat([df_contact, new_row1, new_row2], axis = 0) # Method 1: concat\n",
    "df_contact = df_contact.append([new_row1, new_row2], ignore_index=True, sort=False)\n",
    "\n",
    "# Insert a row to a specific position is a bit complicated\n",
    "# enlarge the df from the destinated position -> df.loc=new_row\n",
    "def Insert_row(row_number, df, row_value): \n",
    "    # Starting value of upper half \n",
    "    start_upper = 0\n",
    "   \n",
    "    # End value of upper half \n",
    "    end_upper = row_number \n",
    "   \n",
    "    # Start value of lower half \n",
    "    start_lower = row_number \n",
    "   \n",
    "    # End value of lower half \n",
    "    end_lower = df.shape[0] \n",
    "   \n",
    "    # Create a list of upper_half index \n",
    "    upper_half = [*range(start_upper, end_upper, 1)] \n",
    "   \n",
    "    # Create a list of lower_half index \n",
    "    lower_half = [*range(start_lower, end_lower, 1)] \n",
    "   \n",
    "    # Increment the value of lower half by 1 \n",
    "    lower_half = [x.__add__(1) for x in lower_half] \n",
    "   \n",
    "    # Combine the two lists \n",
    "    index_ = upper_half + lower_half \n",
    "   \n",
    "    # Update the index of the dataframe \n",
    "    df.index = index_ \n",
    "   \n",
    "    # Insert a row at the end \n",
    "    df.loc[row_number] = row_value \n",
    "    \n",
    "    # Sort the index labels \n",
    "    df = df.sort_index() \n",
    "   \n",
    "    # return the dataframe \n",
    "    return df \n",
    "\n"
   ]
  },
  {
   "cell_type": "markdown",
   "metadata": {},
   "source": [
    "#### fill a column with data"
   ]
  },
  {
   "cell_type": "code",
   "execution_count": null,
   "metadata": {},
   "outputs": [],
   "source": [
    "# fill a column with data\n",
    "titanic[\"weather\"] = \"sunny\"\n",
    "titanic.loc[:,\"weather\"] = \"sunny\"\n",
    "\n",
    "# fill columns with data\n",
    "# Method 1: Muliple assignments in one list\n",
    "titanic[\"weather\"], titanic[\"location\"] = [\"sunny\", \"370 miles south-southeast off the coast of Newfoundland\"]\n",
    "# Method 2: Let pd.DataFrame to expand the single row to match the index\n",
    "titanic[[\"weather\", 'location']] = pd.DataFrame([[\"sunny\", \"370 miles south-southeast off the coast of Newfoundland\"]],\n",
    "                                               index =  titanic.index)\n",
    "# Method 3: create a new df with new columns and concatnate two dfs\n",
    "new_df = pd.DataFrame([[\"sunny\", \"370 miles south-southeast off the coast of Newfoundland\"]],\n",
    "                                               index =  titanic.index,\n",
    "                     columns = [\"weather\", \"location\"])\n",
    "titanic = pd.concat([titanic, new_df], axis = 1)\n",
    "\n",
    "# Method 4:Use .assign() with multiple column arguments\n",
    "titanic = titanic.assign(weather = \"sunny\", location = \"370 miles south-southeast off the coast of Newfoundland\")\n",
    "\n",
    "# Reference: \n",
    "# stackoverflow.com/questions/39050539/how-to-add-multiple-columns-to-pandas-dataframe-in-one-assignment"
   ]
  },
  {
   "cell_type": "markdown",
   "metadata": {},
   "source": [
    "#### combine dataframe (vertical, horizontal)"
   ]
  },
  {
   "cell_type": "code",
   "execution_count": null,
   "metadata": {},
   "outputs": [],
   "source": [
    "# air_quality = pd.concat([air_quality_pm25, air_quality_no2], axis=0)"
   ]
  },
  {
   "cell_type": "markdown",
   "metadata": {},
   "source": [
    "#### modify a cell/column/row"
   ]
  },
  {
   "cell_type": "code",
   "execution_count": null,
   "metadata": {},
   "outputs": [],
   "source": [
    "# rename\n",
    "air_quality_renamed = air_quality.rename(columns={\"station_antwerp\": \"BETR801\",\n",
    "              \"station_paris\": \"FR04014\",\n",
    "              \"station_london\": \"London Westminster\"})\n",
    "\n",
    "air_quality_renamed = air_quality_renamed.rename(columns=str.lower)\n",
    "air_quality.columns = [\"BETR801\", \"FR04014\", \"London Westminster\"]"
   ]
  },
  {
   "cell_type": "code",
   "execution_count": null,
   "metadata": {},
   "outputs": [],
   "source": [
    "titanic.iloc[0:3, 3] = 'anonymous'\n",
    "titanic.loc[titanic['Age']>35, \"Name\"] = 'anonymous'"
   ]
  },
  {
   "cell_type": "code",
   "execution_count": null,
   "metadata": {},
   "outputs": [],
   "source": [
    "# Reorder columns\n",
    "cols = titanic.columns.tolist()\n",
    "new_cols = [cols[-1],cols[-2]] + cols[:-2] # modified the order of cols\n",
    "titanic = titanic[new_cols]"
   ]
  },
  {
   "cell_type": "markdown",
   "metadata": {},
   "source": [
    "#### delete a cell/column/row"
   ]
  },
  {
   "cell_type": "code",
   "execution_count": 8,
   "metadata": {},
   "outputs": [],
   "source": [
    "# drop a column\n",
    "titanic.drop([\"Age\",\"Name\"], axis=1)\n",
    "\n",
    "# drop a row with index\n",
    "titanic.set_index('Name', inplace=True)\n",
    "titanic.drop(\"Braund, Mr. Owen Harris\", axis = 0)\n",
    "\n",
    "# drop a row with row number\n",
    "titanic.drop(titanic.indxex[2,3])\n",
    "\n",
    "# drop a row contains certain value\n",
    "titanic[titanic.Name != \"Braund, Mr. Owen Harris\"]\n",
    "\n",
    "\n"
   ]
  },
  {
   "cell_type": "markdown",
   "metadata": {},
   "source": [
    "### Basic data ploting (pandas built-in & matplotlib)"
   ]
  },
  {
   "cell_type": "code",
   "execution_count": 12,
   "metadata": {},
   "outputs": [
    {
     "data": {
      "text/html": [
       "<div>\n",
       "<style scoped>\n",
       "    .dataframe tbody tr th:only-of-type {\n",
       "        vertical-align: middle;\n",
       "    }\n",
       "\n",
       "    .dataframe tbody tr th {\n",
       "        vertical-align: top;\n",
       "    }\n",
       "\n",
       "    .dataframe thead th {\n",
       "        text-align: right;\n",
       "    }\n",
       "</style>\n",
       "<table border=\"1\" class=\"dataframe\">\n",
       "  <thead>\n",
       "    <tr style=\"text-align: right;\">\n",
       "      <th></th>\n",
       "      <th>station_antwerp</th>\n",
       "      <th>station_paris</th>\n",
       "      <th>station_london</th>\n",
       "    </tr>\n",
       "    <tr>\n",
       "      <th>datetime</th>\n",
       "      <th></th>\n",
       "      <th></th>\n",
       "      <th></th>\n",
       "    </tr>\n",
       "  </thead>\n",
       "  <tbody>\n",
       "    <tr>\n",
       "      <th>2019-05-07 02:00:00</th>\n",
       "      <td>NaN</td>\n",
       "      <td>NaN</td>\n",
       "      <td>23.0</td>\n",
       "    </tr>\n",
       "    <tr>\n",
       "      <th>2019-05-07 03:00:00</th>\n",
       "      <td>50.5</td>\n",
       "      <td>25.0</td>\n",
       "      <td>19.0</td>\n",
       "    </tr>\n",
       "    <tr>\n",
       "      <th>2019-05-07 04:00:00</th>\n",
       "      <td>45.0</td>\n",
       "      <td>27.7</td>\n",
       "      <td>19.0</td>\n",
       "    </tr>\n",
       "    <tr>\n",
       "      <th>2019-05-07 05:00:00</th>\n",
       "      <td>NaN</td>\n",
       "      <td>50.4</td>\n",
       "      <td>16.0</td>\n",
       "    </tr>\n",
       "    <tr>\n",
       "      <th>2019-05-07 06:00:00</th>\n",
       "      <td>NaN</td>\n",
       "      <td>61.9</td>\n",
       "      <td>NaN</td>\n",
       "    </tr>\n",
       "  </tbody>\n",
       "</table>\n",
       "</div>"
      ],
      "text/plain": [
       "                     station_antwerp  station_paris  station_london\n",
       "datetime                                                           \n",
       "2019-05-07 02:00:00              NaN            NaN            23.0\n",
       "2019-05-07 03:00:00             50.5           25.0            19.0\n",
       "2019-05-07 04:00:00             45.0           27.7            19.0\n",
       "2019-05-07 05:00:00              NaN           50.4            16.0\n",
       "2019-05-07 06:00:00              NaN           61.9             NaN"
      ]
     },
     "execution_count": 12,
     "metadata": {},
     "output_type": "execute_result"
    }
   ],
   "source": [
    "import matplotlib.pyplot as plt\n",
    "air_quality = pd.read_csv(\"https://raw.githubusercontent.com/pandas-dev/pandas/master/doc/data/air_quality_no2.csv\",\n",
    "                         index_col = 0,\n",
    "                         parse_dates = True)\n",
    "air_quality.head()"
   ]
  },
  {
   "cell_type": "code",
   "execution_count": 13,
   "metadata": {
    "scrolled": true
   },
   "outputs": [
    {
     "data": {
      "text/plain": [
       "<matplotlib.axes._subplots.AxesSubplot at 0x7ffbf1ee67f0>"
      ]
     },
     "execution_count": 13,
     "metadata": {},
     "output_type": "execute_result"
    },
    {
     "data": {
      "image/png": "[encoded data removed]",
      "text/plain": [
       "<Figure size 432x288 with 1 Axes>"
      ]
     },
     "metadata": {
      "needs_background": "light"
     },
     "output_type": "display_data"
    }
   ],
   "source": [
    "air_quality.plot()    # quick visual check"
   ]
  },
  {
   "cell_type": "code",
   "execution_count": 14,
   "metadata": {},
   "outputs": [
    {
     "data": {
      "text/plain": [
       "<matplotlib.axes._subplots.AxesSubplot at 0x7ffbf1c362e8>"
      ]
     },
     "execution_count": 14,
     "metadata": {},
     "output_type": "execute_result"
    },
    {
     "data": {
      "image/png": "[encoded data removed]",
      "text/plain": [
       "<Figure size 432x288 with 1 Axes>"
      ]
     },
     "metadata": {
      "needs_background": "light"
     },
     "output_type": "display_data"
    }
   ],
   "source": [
    "air_quality['station_paris'].plot()"
   ]
  },
  {
   "cell_type": "code",
   "execution_count": 15,
   "metadata": {},
   "outputs": [
    {
     "data": {
      "text/plain": [
       "<matplotlib.axes._subplots.AxesSubplot at 0x7ffbf1f3dd30>"
      ]
     },
     "execution_count": 15,
     "metadata": {},
     "output_type": "execute_result"
    },
    {
     "data": {
      "image/png": "[encoded data removed]",
      "text/plain": [
       "<Figure size 432x288 with 1 Axes>"
      ]
     },
     "metadata": {
      "needs_background": "light"
     },
     "output_type": "display_data"
    }
   ],
   "source": [
    "# Apart from the default line plot when using the plot function, a number of alternatives are \n",
    "air_quality.plot.scatter(x='station_london', y='station_paris', alpha = 0.5) \n"
   ]
  },
  {
   "cell_type": "code",
   "execution_count": 16,
   "metadata": {},
   "outputs": [
    {
     "data": {
      "text/plain": [
       "['area',\n",
       " 'bar',\n",
       " 'barh',\n",
       " 'box',\n",
       " 'density',\n",
       " 'hexbin',\n",
       " 'hist',\n",
       " 'kde',\n",
       " 'line',\n",
       " 'pie',\n",
       " 'scatter']"
      ]
     },
     "execution_count": 16,
     "metadata": {},
     "output_type": "execute_result"
    }
   ],
   "source": [
    "[method_name for method_name in dir(air_quality.plot) if not method_name.startswith(\"_\")]"
   ]
  },
  {
   "cell_type": "code",
   "execution_count": 17,
   "metadata": {},
   "outputs": [
    {
     "data": {
      "text/plain": [
       "<matplotlib.axes._subplots.AxesSubplot at 0x7ffbf22b6908>"
      ]
     },
     "execution_count": 17,
     "metadata": {},
     "output_type": "execute_result"
    },
    {
     "data": {
      "image/png": "[encoded data removed]",
      "text/plain": [
       "<Figure size 432x288 with 1 Axes>"
      ]
     },
     "metadata": {
      "needs_background": "light"
     },
     "output_type": "display_data"
    }
   ],
   "source": [
    "air_quality.plot.box()"
   ]
  },
  {
   "cell_type": "code",
   "execution_count": 18,
   "metadata": {},
   "outputs": [
    {
     "data": {
      "image/png": "[encoded data removed]",
      "text/plain": [
       "<Figure size 864x288 with 3 Axes>"
      ]
     },
     "metadata": {
      "needs_background": "light"
     },
     "output_type": "display_data"
    }
   ],
   "source": [
    "# Separate subplots for each of the data columns is supported by the subplots \n",
    "# argument of the plot functions. The builtin options available in each of the \n",
    "# pandas plot functions that are worthwhile to have a look.\n",
    "axs = air_quality.plot.area(figsize=(12,4), subplots=True)"
   ]
  },
  {
   "cell_type": "code",
   "execution_count": null,
   "metadata": {},
   "outputs": [],
   "source": [
    "# Alternatively, Each of the plot objects created by pandas are a matplotlib \n",
    "# object. As Matplotlib provides plenty of options to customize plots, making \n",
    "# the link between pandas and Matplotlib explicit enables all the power of \n",
    "# matplotlib to the plot. \n",
    "fig, axs = plt.subplots(figsize=(12, 4))        # Create an empty matplotlib Figure and Axes\n",
    "air_quality.plot.area(ax=axs)                   # Use pandas to put the area plot on the prepared Figure/Axes\n",
    "axs.set_ylabel(\"NO$_2$ concentration\")          # Do any matplotlib customization you like\n",
    "fig.savefig(\"no2_concentrations.png\")           # Save the Figure/Axes using the existing matplotlib method."
   ]
  },
  {
   "cell_type": "markdown",
   "metadata": {},
   "source": [
    "### miscellaneous\n"
   ]
  },
  {
   "cell_type": "markdown",
   "metadata": {},
   "source": [
    "#### timeseries"
   ]
  },
  {
   "cell_type": "code",
   "execution_count": null,
   "metadata": {},
   "outputs": [],
   "source": [
    "# Parse datetime when read data\n",
    "air_quality = pd.read_csv(\"https://raw.githubusercontent.com/pandas-dev/pandas/master/doc/data/air_quality_no2_long.csv\",\n",
    "                         index_col = \"date.utc\",\n",
    "                         parse_dates = [\"date.utc\"])"
   ]
  },
  {
   "cell_type": "code",
   "execution_count": null,
   "metadata": {},
   "outputs": [],
   "source": [
    "# pd.to_dateime() convert strings to datetime64[ns, UTC] objects\n",
    "air_quality[\"datetime\"] = pd.to_datetime(air_quality[\"datetime\"])"
   ]
  },
  {
   "cell_type": "code",
   "execution_count": null,
   "metadata": {},
   "outputs": [],
   "source": [
    "# I want to add a new column to the DataFrame containing only the month of the measurement\n",
    "air_quality[\"month\"] = air_quality[\"datetime\"].dt.month # year/weekofyear/quarter...\n",
    "\n",
    "\n",
    "# in a groupby statement\n",
    "air_quality.groupby([air_quality[\"datetime\"].dt.weekday, \"location\"])[\"value\"].mean()\n"
   ]
  },
  {
   "cell_type": "code",
   "execution_count": 59,
   "metadata": {},
   "outputs": [
    {
     "data": {
      "text/html": [
       "<div>\n",
       "<style scoped>\n",
       "    .dataframe tbody tr th:only-of-type {\n",
       "        vertical-align: middle;\n",
       "    }\n",
       "\n",
       "    .dataframe tbody tr th {\n",
       "        vertical-align: top;\n",
       "    }\n",
       "\n",
       "    .dataframe thead th {\n",
       "        text-align: right;\n",
       "    }\n",
       "</style>\n",
       "<table border=\"1\" class=\"dataframe\">\n",
       "  <thead>\n",
       "    <tr style=\"text-align: right;\">\n",
       "      <th>location</th>\n",
       "      <th>BETR801</th>\n",
       "      <th>FR04014</th>\n",
       "      <th>London Westminster</th>\n",
       "    </tr>\n",
       "    <tr>\n",
       "      <th>date.utc</th>\n",
       "      <th></th>\n",
       "      <th></th>\n",
       "      <th></th>\n",
       "    </tr>\n",
       "  </thead>\n",
       "  <tbody>\n",
       "    <tr>\n",
       "      <th>2019-05-31 00:00:00+00:00</th>\n",
       "      <td>74.5</td>\n",
       "      <td>97.0</td>\n",
       "      <td>97.0</td>\n",
       "    </tr>\n",
       "    <tr>\n",
       "      <th>2019-06-30 00:00:00+00:00</th>\n",
       "      <td>52.5</td>\n",
       "      <td>84.7</td>\n",
       "      <td>52.0</td>\n",
       "    </tr>\n",
       "  </tbody>\n",
       "</table>\n",
       "</div>"
      ],
      "text/plain": [
       "location                   BETR801  FR04014  London Westminster\n",
       "date.utc                                                       \n",
       "2019-05-31 00:00:00+00:00     74.5     97.0                97.0\n",
       "2019-06-30 00:00:00+00:00     52.5     84.7                52.0"
      ]
     },
     "execution_count": 59,
     "metadata": {},
     "output_type": "execute_result"
    }
   ],
   "source": [
    "# Resample the timeseries to another frequency\n",
    "# The resample() method is similar to a groupby operation:\n",
    "#   1. it provides a time-based grouping, by using a string (e.g.D, M, 5H,…) that defines the target frequency\n",
    "#   2. it requires an aggregation function such as mean, max,…\n",
    "no_2 = air_quality.pivot(columns=\"location\", values=\"value\")\n",
    "monthly_max = no_2.resample(\"M\").max()\n",
    "monthly_max"
   ]
  },
  {
   "cell_type": "markdown",
   "metadata": {},
   "source": [
    "#### play with strings"
   ]
  },
  {
   "cell_type": "code",
   "execution_count": null,
   "metadata": {},
   "outputs": [],
   "source": [
    "# lower\n",
    "titanic[\"Name\"].str.lower()\n",
    "# split and get\n",
    "titanic[\"Surname\"] = titanic[\"Name\"].str.split(\",\").str.get(0)\n",
    "# contains, return a series of True or False\n",
    "titanic[\"Name\"].str.contains(\"Countess\")\n",
    "# len\n",
    "titanic[\"Name\"].str.len()\n",
    "# replace\n",
    "titanic[\"Sex_short\"] = titanic[\"Sex\"].replace({\"male\": \"M\",\n",
    "                                              \"female\": \"F\"})"
   ]
  },
  {
   "cell_type": "markdown",
   "metadata": {},
   "source": [
    "#### Regular expression"
   ]
  },
  {
   "cell_type": "markdown",
   "metadata": {},
   "source": [
    "#### play with index"
   ]
  },
  {
   "cell_type": "markdown",
   "metadata": {},
   "source": [
    "##### Set index"
   ]
  },
  {
   "cell_type": "code",
   "execution_count": null,
   "metadata": {},
   "outputs": [],
   "source": [
    "titanic.set_index([\"Name\",\"Pclass\"])"
   ]
  },
  {
   "cell_type": "markdown",
   "metadata": {},
   "source": [
    "##### reset index"
   ]
  },
  {
   "cell_type": "code",
   "execution_count": null,
   "metadata": {},
   "outputs": [],
   "source": [
    "air_quality.reset_indexet(level = 0, inplace=True)\n",
    "\n",
    "# After groupby, you need to reset index if you don't want let the groupby column to be the index\n",
    "titanic.groupby(\"Pclass\").sum().reset_index(level=0)"
   ]
  },
  {
   "cell_type": "markdown",
   "metadata": {},
   "source": [
    "##### Ignore index"
   ]
  },
  {
   "cell_type": "code",
   "execution_count": null,
   "metadata": {},
   "outputs": [],
   "source": [
    "# When append, make sure you know index column in both two dfs, \n",
    "# eg. if df don't have index column, new_row has index columns, you should add\n",
    "# ignore_index=True when append, vice versa\n",
    "df.append(new_row, ignore_index=True)"
   ]
  },
  {
   "cell_type": "markdown",
   "metadata": {},
   "source": [
    "#### Play with NA, NaN"
   ]
  },
  {
   "cell_type": "code",
   "execution_count": null,
   "metadata": {},
   "outputs": [],
   "source": [
    "titanic[\"Name\"].isna()\n",
    "titanic[\"Name\"].notna()"
   ]
  },
  {
   "cell_type": "markdown",
   "metadata": {},
   "source": [
    "#### Make a copy of your df?"
   ]
  },
  {
   "cell_type": "code",
   "execution_count": null,
   "metadata": {},
   "outputs": [],
   "source": [
    "df.copy(deep=True)\n",
    "# When deep = True, a new object will be created, Any modifications to the copy will\n",
    "# not be relected in the original object\n",
    "# When deep = False, the reverse/ vice versa anti"
   ]
  },
  {
   "cell_type": "markdown",
   "metadata": {},
   "source": [
    "#### Tiling (cut to bins)\n",
    "\n",
    "The `cut()` function computes groupings for the values of the input array and is often used to transform continuous variables to discrete or categorical variables:"
   ]
  },
  {
   "cell_type": "code",
   "execution_count": 9,
   "metadata": {
    "scrolled": true
   },
   "outputs": [
    {
     "data": {
      "text/plain": [
       "[(9.95, 26.667], (9.95, 26.667], (9.95, 26.667], (9.95, 26.667], (9.95, 26.667], (9.95, 26.667], (26.667, 43.333], (43.333, 60.0], (43.333, 60.0]]\n",
       "Categories (3, interval[float64]): [(9.95, 26.667] < (26.667, 43.333] < (43.333, 60.0]]"
      ]
     },
     "execution_count": 9,
     "metadata": {},
     "output_type": "execute_result"
    }
   ],
   "source": [
    "ages = np.array([10, 15, 13, 12, 23, 25, 28, 59, 60])\n",
    "pd.cut(ages, bins=3)"
   ]
  },
  {
   "cell_type": "code",
   "execution_count": 10,
   "metadata": {},
   "outputs": [
    {
     "data": {
      "text/plain": [
       "[(0, 18], (0, 18], (0, 18], (0, 18], (18, 35], (18, 35], (18, 35], (35, 70], (35, 70]]\n",
       "Categories (3, interval[int64]): [(0, 18] < (18, 35] < (35, 70]]"
      ]
     },
     "execution_count": 10,
     "metadata": {},
     "output_type": "execute_result"
    }
   ],
   "source": [
    "pd.cut(ages, bins=[0, 18, 35, 70])"
   ]
  },
  {
   "cell_type": "markdown",
   "metadata": {},
   "source": [
    "### split-apply-combine pattern\n",
    "* Split the data into groups\n",
    "* Apply a function to each group independently\n",
    "* Combine the results into a data structure"
   ]
  },
  {
   "cell_type": "markdown",
   "metadata": {},
   "source": [
    "### Useful links\n",
    "\n",
    "[Getting started tutorials](https://pandas.pydata.org/docs/getting_started/intro_tutorials/index.html)\n",
    "\n",
    "[Categorical data](https://pandas.pydata.org/docs/user_guide/categorical.html#categorical)\n",
    "\n",
    "[Working with Missing Data](https://pandas.pydata.org/docs/user_guide/missing_data.html)\n",
    "\n",
    "[Reshaping and pivot tables](https://pandas.pydata.org/docs/user_guide/reshaping.html#reshaping-reshaping)\n",
    "\n",
    "[MultiIndex / advanced indexing](https://pandas.pydata.org/docs/user_guide/advanced.html#advanced)\n",
    "\n",
    "[Merge, join, and concatenate](https://pandas.pydata.org/docs/user_guide/merging.html#merging-concat)\n",
    "\n",
    "[Comparison with SQL](https://pandas.pydata.org/docs/getting_started/comparison/comparison_with_sql.html#compare-with-sql-join)\n",
    "\n",
    "[Time series / date functionality](https://pandas.pydata.org/docs/user_guide/timeseries.html#timeseries-overview)\n",
    "\n",
    "[Time/date components](https://pandas.pydata.org/docs/user_guide/timeseries.html#timeseries-components)\n",
    "\n",
    "[Offset aliases](https://pandas.pydata.org/docs/user_guide/timeseries.html#timeseries-offset-aliases)\n",
    "\n",
    "[Highlight and Styling](https://pandas.pydata.org/docs/user_guide/style.html)\n",
    "\n",
    "[Insert a row to a df](https://www.geeksforgeeks.org/insert-row-at-given-position-in-pandas-dataframe/)"
   ]
  },
  {
   "cell_type": "code",
   "execution_count": null,
   "metadata": {},
   "outputs": [],
   "source": []
  }
 ],
 "metadata": {
  "kernelspec": {
   "display_name": "Python 3",
   "language": "python",
   "name": "python3"
  },
  "language_info": {
   "codemirror_mode": {
    "name": "ipython",
    "version": 3
   },
   "file_extension": ".py",
   "mimetype": "text/x-python",
   "name": "python",
   "nbconvert_exporter": "python",
   "pygments_lexer": "ipython3",
   "version": "3.7.3"
  },
  "toc": {
   "base_numbering": 1,
   "nav_menu": {},
   "number_sections": true,
   "sideBar": true,
   "skip_h1_title": false,
   "title_cell": "Table of Contents",
   "title_sidebar": "Contents",
   "toc_cell": false,
   "toc_position": {},
   "toc_section_display": true,
   "toc_window_display": false
  }
 },
 "nbformat": 4,
 "nbformat_minor": 2
}
